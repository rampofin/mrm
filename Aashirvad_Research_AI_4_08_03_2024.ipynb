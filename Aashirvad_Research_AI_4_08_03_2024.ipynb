{
 "cells": [
  {
   "cell_type": "code",
   "execution_count": 148,
   "id": "583d536d-d002-48de-bdac-e09556faa0ab",
   "metadata": {},
   "outputs": [],
   "source": [
    "import pandas as pd\n",
    "import numpy as np\n",
    "import matplotlib.pyplot as pl"
   ]
  },
  {
   "cell_type": "code",
   "execution_count": 149,
   "id": "3777a306-a7be-4d4b-8dc5-06ff0172e02a",
   "metadata": {},
   "outputs": [
    {
     "data": {
      "text/plain": [
       "Index(['car_ID', 'symboling', 'CarName', 'fueltype', 'aspiration',\n",
       "       'doornumber', 'carbody', 'drivewheel', 'enginelocation', 'wheelbase',\n",
       "       'carlength', 'carwidth', 'carheight', 'curbweight', 'enginetype',\n",
       "       'cylindernumber', 'enginesize', 'fuelsystem', 'boreratio', 'stroke',\n",
       "       'compressionratio', 'horsepower', 'peakrpm', 'citympg', 'highwaympg',\n",
       "       'price'],\n",
       "      dtype='object')"
      ]
     },
     "execution_count": 149,
     "metadata": {},
     "output_type": "execute_result"
    }
   ],
   "source": [
    "#reading data from csv file and storing on a databased named Cars\n",
    "Cars = pd.read_csv('CarPrice_Assignment.csv')\n",
    "Cars.columns\n"
   ]
  },
  {
   "cell_type": "code",
   "execution_count": 150,
   "id": "58ab7616-738d-4d25-ae13-5894a54a9eef",
   "metadata": {},
   "outputs": [
    {
     "name": "stdout",
     "output_type": "stream",
     "text": [
      "     car_ID  symboling                   CarName fueltype aspiration  \\\n",
      "0         1          3        alfa-romero giulia      gas        std   \n",
      "1         2          3       alfa-romero stelvio      gas        std   \n",
      "2         3          1  alfa-romero Quadrifoglio      gas        std   \n",
      "3         4          2               audi 100 ls      gas        std   \n",
      "4         5          2                audi 100ls      gas        std   \n",
      "..      ...        ...                       ...      ...        ...   \n",
      "200     201         -1           volvo 145e (sw)      gas        std   \n",
      "201     202         -1               volvo 144ea      gas      turbo   \n",
      "202     203         -1               volvo 244dl      gas        std   \n",
      "203     204         -1                 volvo 246   diesel      turbo   \n",
      "204     205         -1               volvo 264gl      gas      turbo   \n",
      "\n",
      "    doornumber enginelocation  wheelbase  carlength  carwidth  ...  \\\n",
      "0          two          front       88.6      168.8      64.1  ...   \n",
      "1          two          front       88.6      168.8      64.1  ...   \n",
      "2          two          front       94.5      171.2      65.5  ...   \n",
      "3         four          front       99.8      176.6      66.2  ...   \n",
      "4         four          front       99.4      176.6      66.4  ...   \n",
      "..         ...            ...        ...        ...       ...  ...   \n",
      "200       four          front      109.1      188.8      68.9  ...   \n",
      "201       four          front      109.1      188.8      68.8  ...   \n",
      "202       four          front      109.1      188.8      68.9  ...   \n",
      "203       four          front      109.1      188.8      68.9  ...   \n",
      "204       four          front      109.1      188.8      68.9  ...   \n",
      "\n",
      "     highwaympg    price carbody_convertible carbody_hardtop  \\\n",
      "0            27  13495.0                True           False   \n",
      "1            27  16500.0                True           False   \n",
      "2            26  16500.0               False           False   \n",
      "3            30  13950.0               False           False   \n",
      "4            22  17450.0               False           False   \n",
      "..          ...      ...                 ...             ...   \n",
      "200          28  16845.0               False           False   \n",
      "201          25  19045.0               False           False   \n",
      "202          23  21485.0               False           False   \n",
      "203          27  22470.0               False           False   \n",
      "204          25  22625.0               False           False   \n",
      "\n",
      "     carbody_hatchback carbody_sedan  carbody_wagon  drivewheel_4wd  \\\n",
      "0                False         False          False           False   \n",
      "1                False         False          False           False   \n",
      "2                 True         False          False           False   \n",
      "3                False          True          False           False   \n",
      "4                False          True          False            True   \n",
      "..                 ...           ...            ...             ...   \n",
      "200              False          True          False           False   \n",
      "201              False          True          False           False   \n",
      "202              False          True          False           False   \n",
      "203              False          True          False           False   \n",
      "204              False          True          False           False   \n",
      "\n",
      "     drivewheel_fwd  drivewheel_rwd  \n",
      "0             False            True  \n",
      "1             False            True  \n",
      "2             False            True  \n",
      "3              True           False  \n",
      "4             False           False  \n",
      "..              ...             ...  \n",
      "200           False            True  \n",
      "201           False            True  \n",
      "202           False            True  \n",
      "203           False            True  \n",
      "204           False            True  \n",
      "\n",
      "[205 rows x 32 columns]\n"
     ]
    }
   ],
   "source": [
    "Encoded = pd.get_dummies(data = Cars, columns = ['carbody','drivewheel']) \n",
    "print(Encoded)\n"
   ]
  },
  {
   "cell_type": "code",
   "execution_count": 151,
   "id": "7771ef9a-605d-4265-bd73-1466baf94159",
   "metadata": {},
   "outputs": [
    {
     "name": "stdout",
     "output_type": "stream",
     "text": [
      "     car_ID  symboling                          CarName fueltype aspiration  \\\n",
      "74       75          1  buick regal sport coupe (turbo)      gas        std   \n",
      "16       17          0                           bmw x5      gas        std   \n",
      "73       74          0            buick century special      gas        std   \n",
      "128     129          3                   porsche boxter      gas        std   \n",
      "17       18          0                           bmw x3      gas        std   \n",
      "49       50          0                        jaguar xk      gas        std   \n",
      "48       49          0                        jaguar xf      gas        std   \n",
      "72       73          3                    buick skylark      gas        std   \n",
      "71       72         -1          buick opel isuzu deluxe      gas        std   \n",
      "127     128          3                  porsche cayenne      gas        std   \n",
      "126     127          3                porcshce panamera      gas        std   \n",
      "47       48          0                        jaguar xj      gas        std   \n",
      "70       71         -1                    buick skyhawk   diesel      turbo   \n",
      "129     130          1                  porsche cayenne      gas        std   \n",
      "15       16          0                           bmw x4      gas        std   \n",
      "68       69         -1         buick century luxus (sw)   diesel      turbo   \n",
      "69       70          0                    buick century   diesel      turbo   \n",
      "67       68         -1         buick electra 225 custom   diesel      turbo   \n",
      "14       15          1                           bmw z4      gas        std   \n",
      "8         9          1                        audi 4000      gas      turbo   \n",
      "\n",
      "    doornumber      carbody drivewheel enginelocation  wheelbase  ...  \\\n",
      "74         two      hardtop        rwd          front      112.0  ...   \n",
      "16         two        sedan        rwd          front      103.5  ...   \n",
      "73        four        sedan        rwd          front      120.9  ...   \n",
      "128        two  convertible        rwd           rear       89.5  ...   \n",
      "17        four        sedan        rwd          front      110.0  ...   \n",
      "49         two        sedan        rwd          front      102.0  ...   \n",
      "48        four        sedan        rwd          front      113.0  ...   \n",
      "72         two  convertible        rwd          front       96.6  ...   \n",
      "71        four        sedan        rwd          front      115.6  ...   \n",
      "127        two      hardtop        rwd           rear       89.5  ...   \n",
      "126        two      hardtop        rwd           rear       89.5  ...   \n",
      "47        four        sedan        rwd          front      113.0  ...   \n",
      "70        four        sedan        rwd          front      115.6  ...   \n",
      "129        two    hatchback        rwd          front       98.4  ...   \n",
      "15        four        sedan        rwd          front      103.5  ...   \n",
      "68        four        wagon        rwd          front      110.0  ...   \n",
      "69         two      hardtop        rwd          front      106.7  ...   \n",
      "67        four        sedan        rwd          front      110.0  ...   \n",
      "14        four        sedan        rwd          front      103.5  ...   \n",
      "8         four        sedan        fwd          front      105.8  ...   \n",
      "\n",
      "     enginesize  fuelsystem  boreratio  stroke compressionratio horsepower  \\\n",
      "74          304        mpfi       3.80    3.35              8.0        184   \n",
      "16          209        mpfi       3.62    3.39              8.0        182   \n",
      "73          308        mpfi       3.80    3.35              8.0        184   \n",
      "128         194        mpfi       3.74    2.90              9.5        207   \n",
      "17          209        mpfi       3.62    3.39              8.0        182   \n",
      "49          326        mpfi       3.54    2.76             11.5        262   \n",
      "48          258        mpfi       3.63    4.17              8.1        176   \n",
      "72          234        mpfi       3.46    3.10              8.3        155   \n",
      "71          234        mpfi       3.46    3.10              8.3        155   \n",
      "127         194        mpfi       3.74    2.90              9.5        207   \n",
      "126         194        mpfi       3.74    2.90              9.5        207   \n",
      "47          258        mpfi       3.63    4.17              8.1        176   \n",
      "70          183         idi       3.58    3.64             21.5        123   \n",
      "129         203        mpfi       3.94    3.11             10.0        288   \n",
      "15          209        mpfi       3.62    3.39              8.0        182   \n",
      "68          183         idi       3.58    3.64             21.5        123   \n",
      "69          183         idi       3.58    3.64             21.5        123   \n",
      "67          183         idi       3.58    3.64             21.5        123   \n",
      "14          164        mpfi       3.31    3.19              9.0        121   \n",
      "8           131        mpfi       3.13    3.40              8.3        140   \n",
      "\n",
      "     peakrpm citympg  highwaympg    price  \n",
      "74      4500      14          16  45400.0  \n",
      "16      5400      16          22  41315.0  \n",
      "73      4500      14          16  40960.0  \n",
      "128     5900      17          25  37028.0  \n",
      "17      5400      15          20  36880.0  \n",
      "49      5000      13          17  36000.0  \n",
      "48      4750      15          19  35550.0  \n",
      "72      4750      16          18  35056.0  \n",
      "71      4750      16          18  34184.0  \n",
      "127     5900      17          25  34028.0  \n",
      "126     5900      17          25  32528.0  \n",
      "47      4750      15          19  32250.0  \n",
      "70      4350      22          25  31600.0  \n",
      "129     5750      17          28  31400.5  \n",
      "15      5400      16          22  30760.0  \n",
      "68      4350      22          25  28248.0  \n",
      "69      4350      22          25  28176.0  \n",
      "67      4350      22          25  25552.0  \n",
      "14      4250      20          25  24565.0  \n",
      "8       5500      17          20  23875.0  \n",
      "\n",
      "[20 rows x 26 columns]\n"
     ]
    }
   ],
   "source": [
    "Cars1 = Cars.sort_values(by='price',ascending = False)\n",
    "print(Cars1.head(20))"
   ]
  },
  {
   "cell_type": "code",
   "execution_count": 152,
   "id": "35d77c38-e97b-4442-a05e-5fa3e7cb46c7",
   "metadata": {},
   "outputs": [
    {
     "name": "stdout",
     "output_type": "stream",
     "text": [
      "     horsepower  enginesize cylindernumber drivewheel  carlength  carwidth  \\\n",
      "0           111         130           four        rwd      168.8      64.1   \n",
      "1           111         130           four        rwd      168.8      64.1   \n",
      "2           154         152            six        rwd      171.2      65.5   \n",
      "3           102         109           four        fwd      176.6      66.2   \n",
      "4           115         136           five        4wd      176.6      66.4   \n",
      "..          ...         ...            ...        ...        ...       ...   \n",
      "200         114         141           four        rwd      188.8      68.9   \n",
      "201         160         141           four        rwd      188.8      68.8   \n",
      "202         134         173            six        rwd      188.8      68.9   \n",
      "203         106         145            six        rwd      188.8      68.9   \n",
      "204         114         141           four        rwd      188.8      68.9   \n",
      "\n",
      "     highwaympg  wheelbase  curbweight fuelsystem  \n",
      "0            27       88.6        2548       mpfi  \n",
      "1            27       88.6        2548       mpfi  \n",
      "2            26       94.5        2823       mpfi  \n",
      "3            30       99.8        2337       mpfi  \n",
      "4            22       99.4        2824       mpfi  \n",
      "..          ...        ...         ...        ...  \n",
      "200          28      109.1        2952       mpfi  \n",
      "201          25      109.1        3049       mpfi  \n",
      "202          23      109.1        3012       mpfi  \n",
      "203          27      109.1        3217        idi  \n",
      "204          25      109.1        3062       mpfi  \n",
      "\n",
      "[205 rows x 10 columns]\n"
     ]
    }
   ],
   "source": [
    "#reduction in dimension\n",
    "Cars = Cars[['horsepower','enginesize','cylindernumber','drivewheel','carlength','carwidth','highwaympg','wheelbase',\n",
    "                   'curbweight','fuelsystem']]\n",
    "print(Cars)\n"
   ]
  },
  {
   "cell_type": "code",
   "execution_count": 153,
   "id": "524b5d7e-dcc7-4195-a7eb-c2b6d842ee81",
   "metadata": {},
   "outputs": [
    {
     "data": {
      "text/plain": [
       "array(['four', 'six', 'five', 'three', 'twelve', 'two', 'eight'],\n",
       "      dtype=object)"
      ]
     },
     "execution_count": 153,
     "metadata": {},
     "output_type": "execute_result"
    }
   ],
   "source": [
    "Cars['cylindernumber'].unique()"
   ]
  },
  {
   "cell_type": "code",
   "execution_count": 154,
   "id": "c587eedf-5f92-4c8c-bcae-fb2f2444cbcd",
   "metadata": {},
   "outputs": [
    {
     "name": "stdout",
     "output_type": "stream",
     "text": [
      "     horsepower  enginesize cylindernumber drivewheel  carlength  carwidth  \\\n",
      "0           111         130              4        rwd      168.8      64.1   \n",
      "1           111         130              4        rwd      168.8      64.1   \n",
      "2           154         152              6        rwd      171.2      65.5   \n",
      "3           102         109              4        fwd      176.6      66.2   \n",
      "4           115         136              5        4wd      176.6      66.4   \n",
      "..          ...         ...            ...        ...        ...       ...   \n",
      "200         114         141              4        rwd      188.8      68.9   \n",
      "201         160         141              4        rwd      188.8      68.8   \n",
      "202         134         173              6        rwd      188.8      68.9   \n",
      "203         106         145              6        rwd      188.8      68.9   \n",
      "204         114         141              4        rwd      188.8      68.9   \n",
      "\n",
      "     highwaympg  wheelbase  curbweight fuelsystem  \n",
      "0            27       88.6        2548       mpfi  \n",
      "1            27       88.6        2548       mpfi  \n",
      "2            26       94.5        2823       mpfi  \n",
      "3            30       99.8        2337       mpfi  \n",
      "4            22       99.4        2824       mpfi  \n",
      "..          ...        ...         ...        ...  \n",
      "200          28      109.1        2952       mpfi  \n",
      "201          25      109.1        3049       mpfi  \n",
      "202          23      109.1        3012       mpfi  \n",
      "203          27      109.1        3217        idi  \n",
      "204          25      109.1        3062       mpfi  \n",
      "\n",
      "[205 rows x 10 columns]\n"
     ]
    }
   ],
   "source": [
    "#changing cylindernumber from string to int\n",
    "for i in range(len(Cars)):\n",
    "    if(Cars.loc[i,'cylindernumber'] == 'four'):\n",
    "        Cars.loc[i,'cylindernumber'] = 4\n",
    "    if(Cars.loc[i,'cylindernumber'] == 'six'):\n",
    "        Cars.loc[i,'cylindernumber'] = 6\n",
    "    if(Cars.loc[i,'cylindernumber'] == 'three'):\n",
    "        Cars.loc[i,'cylindernumber'] = 3\n",
    "    if(Cars.loc[i,'cylindernumber'] == 'twelve'):\n",
    "        Cars.loc[i,'cylindernumber'] = 12\n",
    "    if(Cars.loc[i,'cylindernumber'] == 'two'):\n",
    "        Cars.loc[i,'cylindernumber'] = 2\n",
    "    if(Cars.loc[i,'cylindernumber'] == 'eight'):\n",
    "        Cars.loc[i,'cylindernumber'] = 8\n",
    "    if(Cars.loc[i,'cylindernumber'] == 'five'):\n",
    "        Cars.loc[i,'cylindernumber'] = 5\n",
    "print(Cars)"
   ]
  },
  {
   "cell_type": "code",
   "execution_count": 155,
   "id": "180dc818-b4cb-44dd-8bcb-cf0efc1b08af",
   "metadata": {},
   "outputs": [
    {
     "name": "stdout",
     "output_type": "stream",
     "text": [
      "Index(['horsepower', 'enginesize', 'cylindernumber', 'drivewheel', 'carlength',\n",
      "       'carwidth', 'highwaympg', 'wheelbase', 'curbweight', 'fuelsystem'],\n",
      "      dtype='object')\n"
     ]
    }
   ],
   "source": [
    "print(Cars.columns)"
   ]
  },
  {
   "cell_type": "code",
   "execution_count": 156,
   "id": "527f2357-b362-451e-889a-e4779a6410fa",
   "metadata": {},
   "outputs": [
    {
     "name": "stdout",
     "output_type": "stream",
     "text": [
      "     horsepower  enginesize cylindernumber  carlength  carwidth  highwaympg  \\\n",
      "0           111         130              4      168.8      64.1          27   \n",
      "1           111         130              4      168.8      64.1          27   \n",
      "2           154         152              6      171.2      65.5          26   \n",
      "3           102         109              4      176.6      66.2          30   \n",
      "4           115         136              5      176.6      66.4          22   \n",
      "..          ...         ...            ...        ...       ...         ...   \n",
      "200         114         141              4      188.8      68.9          28   \n",
      "201         160         141              4      188.8      68.8          25   \n",
      "202         134         173              6      188.8      68.9          23   \n",
      "203         106         145              6      188.8      68.9          27   \n",
      "204         114         141              4      188.8      68.9          25   \n",
      "\n",
      "     wheelbase  curbweight  fuelsystem_1bbl  fuelsystem_2bbl  fuelsystem_4bbl  \\\n",
      "0         88.6        2548            False            False            False   \n",
      "1         88.6        2548            False            False            False   \n",
      "2         94.5        2823            False            False            False   \n",
      "3         99.8        2337            False            False            False   \n",
      "4         99.4        2824            False            False            False   \n",
      "..         ...         ...              ...              ...              ...   \n",
      "200      109.1        2952            False            False            False   \n",
      "201      109.1        3049            False            False            False   \n",
      "202      109.1        3012            False            False            False   \n",
      "203      109.1        3217            False            False            False   \n",
      "204      109.1        3062            False            False            False   \n",
      "\n",
      "     fuelsystem_idi  fuelsystem_mfi  fuelsystem_mpfi  fuelsystem_spdi  \\\n",
      "0             False           False             True            False   \n",
      "1             False           False             True            False   \n",
      "2             False           False             True            False   \n",
      "3             False           False             True            False   \n",
      "4             False           False             True            False   \n",
      "..              ...             ...              ...              ...   \n",
      "200           False           False             True            False   \n",
      "201           False           False             True            False   \n",
      "202           False           False             True            False   \n",
      "203            True           False            False            False   \n",
      "204           False           False             True            False   \n",
      "\n",
      "     fuelsystem_spfi  drivewheel_4wd  drivewheel_fwd  drivewheel_rwd  \n",
      "0              False           False           False            True  \n",
      "1              False           False           False            True  \n",
      "2              False           False           False            True  \n",
      "3              False           False            True           False  \n",
      "4              False            True           False           False  \n",
      "..               ...             ...             ...             ...  \n",
      "200            False           False           False            True  \n",
      "201            False           False           False            True  \n",
      "202            False           False           False            True  \n",
      "203            False           False           False            True  \n",
      "204            False           False           False            True  \n",
      "\n",
      "[205 rows x 19 columns]\n"
     ]
    }
   ],
   "source": [
    "encore = pd.get_dummies(data = Cars,columns = ['fuelsystem','drivewheel'])\n",
    "print(encore)\n"
   ]
  },
  {
   "cell_type": "code",
   "execution_count": 158,
   "id": "c0df5ac3-bb83-41fe-9c0c-8459d82ec9aa",
   "metadata": {},
   "outputs": [
    {
     "name": "stdout",
     "output_type": "stream",
     "text": [
      "    horsepower enginesize cylindernumber carlength  carwidth highwaympg  \\\n",
      "0     0.174057   0.074267      -0.352025  -0.42548 -0.842719  -0.544725   \n",
      "1     0.174057   0.074267      -0.352025  -0.42548 -0.842719  -0.544725   \n",
      "2     1.261448   0.602571       1.498364 -0.230948 -0.190101  -0.689938   \n",
      "3    -0.053537  -0.430023      -0.352025   0.20675  0.136209  -0.109087   \n",
      "4     0.275209    0.21835       0.573169   0.20675   0.22944  -1.270789   \n",
      "..         ...        ...            ...       ...       ...        ...   \n",
      "200   0.249921   0.338419      -0.352025  1.195622   1.39483  -0.399512   \n",
      "201   1.413178   0.338419      -0.352025  1.195622  1.348215  -0.835151   \n",
      "202   0.755685   1.106861       1.498364  1.195622   1.39483  -1.125577   \n",
      "203   0.047616   0.434474       1.498364  1.195622   1.39483  -0.544725   \n",
      "204   0.249921   0.338419      -0.352025  1.195622   1.39483  -0.835151   \n",
      "\n",
      "    wheelbase curbweight fuelsystem_1bbl fuelsystem_2bbl fuelsystem_4bbl  \\\n",
      "0   -1.686643  -0.014531       -0.237538       -0.687389       -0.121569   \n",
      "1   -1.686643  -0.014531       -0.237538       -0.687389       -0.121569   \n",
      "2   -0.706865   0.513625       -0.237538       -0.687389       -0.121569   \n",
      "3    0.173274   -0.41977       -0.237538       -0.687389       -0.121569   \n",
      "4    0.106848   0.515545       -0.237538       -0.687389       -0.121569   \n",
      "..        ...        ...             ...             ...             ...   \n",
      "200  1.717669   0.761377       -0.237538       -0.687389       -0.121569   \n",
      "201  1.717669   0.947672       -0.237538       -0.687389       -0.121569   \n",
      "202  1.717669   0.876611       -0.237538       -0.687389       -0.121569   \n",
      "203  1.717669   1.270327       -0.237538       -0.687389       -0.121569   \n",
      "204  1.717669    0.97264       -0.237538       -0.687389       -0.121569   \n",
      "\n",
      "    fuelsystem_idi fuelsystem_mfi fuelsystem_mpfi fuelsystem_spdi  \\\n",
      "0        -0.327995      -0.069843        1.084016       -0.213762   \n",
      "1        -0.327995      -0.069843        1.084016       -0.213762   \n",
      "2        -0.327995      -0.069843        1.084016       -0.213762   \n",
      "3        -0.327995      -0.069843        1.084016       -0.213762   \n",
      "4        -0.327995      -0.069843        1.084016       -0.213762   \n",
      "..             ...            ...             ...             ...   \n",
      "200      -0.327995      -0.069843        1.084016       -0.213762   \n",
      "201      -0.327995      -0.069843        1.084016       -0.213762   \n",
      "202      -0.327995      -0.069843        1.084016       -0.213762   \n",
      "203       3.033954      -0.069843       -0.917996       -0.213762   \n",
      "204      -0.327995      -0.069843        1.084016       -0.213762   \n",
      "\n",
      "    fuelsystem_spfi drivewheel_4wd drivewheel_fwd drivewheel_rwd  \n",
      "0         -0.069843      -0.213762      -1.185276       1.299649  \n",
      "1         -0.069843      -0.213762      -1.185276       1.299649  \n",
      "2         -0.069843      -0.213762      -1.185276       1.299649  \n",
      "3         -0.069843      -0.213762        0.83957      -0.765685  \n",
      "4         -0.069843       4.655271      -1.185276      -0.765685  \n",
      "..              ...            ...            ...            ...  \n",
      "200       -0.069843      -0.213762      -1.185276       1.299649  \n",
      "201       -0.069843      -0.213762      -1.185276       1.299649  \n",
      "202       -0.069843      -0.213762      -1.185276       1.299649  \n",
      "203       -0.069843      -0.213762      -1.185276       1.299649  \n",
      "204       -0.069843      -0.213762      -1.185276       1.299649  \n",
      "\n",
      "[205 rows x 19 columns]\n"
     ]
    }
   ],
   "source": [
    "#using z-score normalization on the data\n",
    "mean = encore.mean()\n",
    "StdDev = encore.std()\n",
    "Normalize = (encore - mean)/StdDev\n",
    "print(Normalize)"
   ]
  },
  {
   "cell_type": "code",
   "execution_count": 159,
   "id": "9ebe70c3-a503-4698-b4b9-00763f4d87df",
   "metadata": {},
   "outputs": [
    {
     "name": "stdout",
     "output_type": "stream",
     "text": [
      "horsepower         0.0\n",
      "enginesize         0.0\n",
      "cylindernumber    -0.0\n",
      "carlength          0.0\n",
      "carwidth           0.0\n",
      "highwaympg         0.0\n",
      "wheelbase         -0.0\n",
      "curbweight         0.0\n",
      "fuelsystem_1bbl    0.0\n",
      "fuelsystem_2bbl    0.0\n",
      "fuelsystem_4bbl   -0.0\n",
      "fuelsystem_idi     0.0\n",
      "fuelsystem_mfi    -0.0\n",
      "fuelsystem_mpfi    0.0\n",
      "fuelsystem_spdi    0.0\n",
      "fuelsystem_spfi   -0.0\n",
      "drivewheel_4wd    -0.0\n",
      "drivewheel_fwd     0.0\n",
      "drivewheel_rwd    -0.0\n",
      "dtype: object\n"
     ]
    },
    {
     "data": {
      "text/plain": [
       "horsepower         1.0\n",
       "enginesize         1.0\n",
       "cylindernumber     1.0\n",
       "carlength          1.0\n",
       "carwidth           1.0\n",
       "highwaympg         1.0\n",
       "wheelbase          1.0\n",
       "curbweight         1.0\n",
       "fuelsystem_1bbl    1.0\n",
       "fuelsystem_2bbl    1.0\n",
       "fuelsystem_4bbl    1.0\n",
       "fuelsystem_idi     1.0\n",
       "fuelsystem_mfi     1.0\n",
       "fuelsystem_mpfi    1.0\n",
       "fuelsystem_spdi    1.0\n",
       "fuelsystem_spfi    1.0\n",
       "drivewheel_4wd     1.0\n",
       "drivewheel_fwd     1.0\n",
       "drivewheel_rwd     1.0\n",
       "dtype: object"
      ]
     },
     "execution_count": 159,
     "metadata": {},
     "output_type": "execute_result"
    }
   ],
   "source": [
    "print(Normalize.mean())\n",
    "Normalize.std()"
   ]
  },
  {
   "cell_type": "code",
   "execution_count": 160,
   "id": "2b0cce55-cab0-4ca2-95b7-2e5f09bd2c00",
   "metadata": {},
   "outputs": [
    {
     "data": {
      "text/plain": [
       "horsepower         0.0\n",
       "enginesize         0.0\n",
       "cylindernumber    -0.0\n",
       "carlength          0.0\n",
       "carwidth           0.0\n",
       "highwaympg         0.0\n",
       "wheelbase         -0.0\n",
       "curbweight         0.0\n",
       "fuelsystem_1bbl    0.0\n",
       "fuelsystem_2bbl    0.0\n",
       "fuelsystem_4bbl   -0.0\n",
       "fuelsystem_idi     0.0\n",
       "fuelsystem_mfi    -0.0\n",
       "fuelsystem_mpfi    0.0\n",
       "fuelsystem_spdi    0.0\n",
       "fuelsystem_spfi   -0.0\n",
       "drivewheel_4wd    -0.0\n",
       "drivewheel_fwd     0.0\n",
       "drivewheel_rwd    -0.0\n",
       "dtype: object"
      ]
     },
     "execution_count": 160,
     "metadata": {},
     "output_type": "execute_result"
    }
   ],
   "source": [
    "Normalize.min()\n",
    "#print(Normalized)\n",
    "Normalize.mean()\n"
   ]
  },
  {
   "cell_type": "code",
   "execution_count": 161,
   "id": "3240586b-5676-4c6f-87c9-13b6acf70f1e",
   "metadata": {},
   "outputs": [
    {
     "data": {
      "text/plain": [
       "Index(['horsepower', 'enginesize', 'cylindernumber', 'carlength', 'carwidth',\n",
       "       'highwaympg', 'wheelbase', 'curbweight', 'fuelsystem_1bbl',\n",
       "       'fuelsystem_2bbl', 'fuelsystem_4bbl', 'fuelsystem_idi',\n",
       "       'fuelsystem_mfi', 'fuelsystem_mpfi', 'fuelsystem_spdi',\n",
       "       'fuelsystem_spfi', 'drivewheel_4wd', 'drivewheel_fwd',\n",
       "       'drivewheel_rwd'],\n",
       "      dtype='object')"
      ]
     },
     "execution_count": 161,
     "metadata": {},
     "output_type": "execute_result"
    }
   ],
   "source": [
    "Normalize.columns"
   ]
  },
  {
   "cell_type": "code",
   "execution_count": null,
   "id": "0101ed03-5a62-4c2c-b5c3-c087261ca8c8",
   "metadata": {},
   "outputs": [],
   "source": []
  },
  {
   "cell_type": "code",
   "execution_count": 168,
   "id": "0b83d496-6d68-4395-9f72-504a12192864",
   "metadata": {},
   "outputs": [
    {
     "ename": "KeyError",
     "evalue": "'price'",
     "output_type": "error",
     "traceback": [
      "\u001b[0;31m---------------------------------------------------------------------------\u001b[0m",
      "\u001b[0;31mKeyError\u001b[0m                                  Traceback (most recent call last)",
      "File \u001b[0;32m/opt/anaconda3/lib/python3.11/site-packages/pandas/core/indexes/base.py:3791\u001b[0m, in \u001b[0;36mIndex.get_loc\u001b[0;34m(self, key)\u001b[0m\n\u001b[1;32m   3790\u001b[0m \u001b[38;5;28;01mtry\u001b[39;00m:\n\u001b[0;32m-> 3791\u001b[0m     \u001b[38;5;28;01mreturn\u001b[39;00m \u001b[38;5;28mself\u001b[39m\u001b[38;5;241m.\u001b[39m_engine\u001b[38;5;241m.\u001b[39mget_loc(casted_key)\n\u001b[1;32m   3792\u001b[0m \u001b[38;5;28;01mexcept\u001b[39;00m \u001b[38;5;167;01mKeyError\u001b[39;00m \u001b[38;5;28;01mas\u001b[39;00m err:\n",
      "File \u001b[0;32mindex.pyx:152\u001b[0m, in \u001b[0;36mpandas._libs.index.IndexEngine.get_loc\u001b[0;34m()\u001b[0m\n",
      "File \u001b[0;32mindex.pyx:181\u001b[0m, in \u001b[0;36mpandas._libs.index.IndexEngine.get_loc\u001b[0;34m()\u001b[0m\n",
      "File \u001b[0;32mpandas/_libs/hashtable_class_helper.pxi:7080\u001b[0m, in \u001b[0;36mpandas._libs.hashtable.PyObjectHashTable.get_item\u001b[0;34m()\u001b[0m\n",
      "File \u001b[0;32mpandas/_libs/hashtable_class_helper.pxi:7088\u001b[0m, in \u001b[0;36mpandas._libs.hashtable.PyObjectHashTable.get_item\u001b[0;34m()\u001b[0m\n",
      "\u001b[0;31mKeyError\u001b[0m: 'price'",
      "\nThe above exception was the direct cause of the following exception:\n",
      "\u001b[0;31mKeyError\u001b[0m                                  Traceback (most recent call last)",
      "Cell \u001b[0;32mIn[168], line 2\u001b[0m\n\u001b[1;32m      1\u001b[0m \u001b[38;5;66;03m# Step 1: Check for Missing Values\u001b[39;00m\n\u001b[0;32m----> 2\u001b[0m \u001b[38;5;28mprint\u001b[39m(Normalize[\u001b[38;5;124m'\u001b[39m\u001b[38;5;124mprice\u001b[39m\u001b[38;5;124m'\u001b[39m]\u001b[38;5;241m.\u001b[39misnull()\u001b[38;5;241m.\u001b[39msum())\n\u001b[1;32m      4\u001b[0m \u001b[38;5;66;03m# Step 2: Data Type Compatibility\u001b[39;00m\n\u001b[1;32m      5\u001b[0m Normalize[\u001b[38;5;124m'\u001b[39m\u001b[38;5;124mprice\u001b[39m\u001b[38;5;124m'\u001b[39m] \u001b[38;5;241m=\u001b[39m Normalize[\u001b[38;5;124m'\u001b[39m\u001b[38;5;124mprice\u001b[39m\u001b[38;5;124m'\u001b[39m]\u001b[38;5;241m.\u001b[39mastype(\u001b[38;5;28mfloat\u001b[39m)\n",
      "File \u001b[0;32m/opt/anaconda3/lib/python3.11/site-packages/pandas/core/frame.py:3893\u001b[0m, in \u001b[0;36mDataFrame.__getitem__\u001b[0;34m(self, key)\u001b[0m\n\u001b[1;32m   3891\u001b[0m \u001b[38;5;28;01mif\u001b[39;00m \u001b[38;5;28mself\u001b[39m\u001b[38;5;241m.\u001b[39mcolumns\u001b[38;5;241m.\u001b[39mnlevels \u001b[38;5;241m>\u001b[39m \u001b[38;5;241m1\u001b[39m:\n\u001b[1;32m   3892\u001b[0m     \u001b[38;5;28;01mreturn\u001b[39;00m \u001b[38;5;28mself\u001b[39m\u001b[38;5;241m.\u001b[39m_getitem_multilevel(key)\n\u001b[0;32m-> 3893\u001b[0m indexer \u001b[38;5;241m=\u001b[39m \u001b[38;5;28mself\u001b[39m\u001b[38;5;241m.\u001b[39mcolumns\u001b[38;5;241m.\u001b[39mget_loc(key)\n\u001b[1;32m   3894\u001b[0m \u001b[38;5;28;01mif\u001b[39;00m is_integer(indexer):\n\u001b[1;32m   3895\u001b[0m     indexer \u001b[38;5;241m=\u001b[39m [indexer]\n",
      "File \u001b[0;32m/opt/anaconda3/lib/python3.11/site-packages/pandas/core/indexes/base.py:3798\u001b[0m, in \u001b[0;36mIndex.get_loc\u001b[0;34m(self, key)\u001b[0m\n\u001b[1;32m   3793\u001b[0m     \u001b[38;5;28;01mif\u001b[39;00m \u001b[38;5;28misinstance\u001b[39m(casted_key, \u001b[38;5;28mslice\u001b[39m) \u001b[38;5;129;01mor\u001b[39;00m (\n\u001b[1;32m   3794\u001b[0m         \u001b[38;5;28misinstance\u001b[39m(casted_key, abc\u001b[38;5;241m.\u001b[39mIterable)\n\u001b[1;32m   3795\u001b[0m         \u001b[38;5;129;01mand\u001b[39;00m \u001b[38;5;28many\u001b[39m(\u001b[38;5;28misinstance\u001b[39m(x, \u001b[38;5;28mslice\u001b[39m) \u001b[38;5;28;01mfor\u001b[39;00m x \u001b[38;5;129;01min\u001b[39;00m casted_key)\n\u001b[1;32m   3796\u001b[0m     ):\n\u001b[1;32m   3797\u001b[0m         \u001b[38;5;28;01mraise\u001b[39;00m InvalidIndexError(key)\n\u001b[0;32m-> 3798\u001b[0m     \u001b[38;5;28;01mraise\u001b[39;00m \u001b[38;5;167;01mKeyError\u001b[39;00m(key) \u001b[38;5;28;01mfrom\u001b[39;00m \u001b[38;5;21;01merr\u001b[39;00m\n\u001b[1;32m   3799\u001b[0m \u001b[38;5;28;01mexcept\u001b[39;00m \u001b[38;5;167;01mTypeError\u001b[39;00m:\n\u001b[1;32m   3800\u001b[0m     \u001b[38;5;66;03m# If we have a listlike key, _check_indexing_error will raise\u001b[39;00m\n\u001b[1;32m   3801\u001b[0m     \u001b[38;5;66;03m#  InvalidIndexError. Otherwise we fall through and re-raise\u001b[39;00m\n\u001b[1;32m   3802\u001b[0m     \u001b[38;5;66;03m#  the TypeError.\u001b[39;00m\n\u001b[1;32m   3803\u001b[0m     \u001b[38;5;28mself\u001b[39m\u001b[38;5;241m.\u001b[39m_check_indexing_error(key)\n",
      "\u001b[0;31mKeyError\u001b[0m: 'price'"
     ]
    }
   ],
   "source": [
    "# Step 1: Check for Missing Values\n",
    "print(Normalize['price'].isnull().sum())\n",
    "\n",
    "# Step 2: Data Type Compatibility\n",
    "Normalize['price'] = Normalize['price'].astype(float)\n",
    "# Load the dataset\n",
    "X = np.array(Normalize[['horsepower', 'enginesize', 'cylindernumber', 'carlength', 'carwidth',\n",
    "       'highwaympg', 'wheelbase', 'curbweight', 'fuelsystem_1bbl',\n",
    "       'fuelsystem_2bbl', 'fuelsystem_4bbl', 'fuelsystem_idi',\n",
    "       'fuelsystem_mfi', 'fuelsystem_mpfi', 'fuelsystem_spdi',\n",
    "       'fuelsystem_spfi', 'drivewheel_4wd', 'drivewheel_fwd',\n",
    "       'drivewheel_rwd']].head(19))\n",
    "y = np.array(Normalize['price'].head(19))\n",
    "# Step 4: Verify Data Alignment\n",
    "print(\"Shape of X:\", X.shape)\n",
    "print(\"Shape of y:\", y.shape)"
   ]
  },
  {
   "cell_type": "code",
   "execution_count": 164,
   "id": "184702ad-2c04-4972-804c-931bbdfbe58a",
   "metadata": {},
   "outputs": [
    {
     "ename": "NameError",
     "evalue": "name 'y' is not defined",
     "output_type": "error",
     "traceback": [
      "\u001b[0;31m---------------------------------------------------------------------------\u001b[0m",
      "\u001b[0;31mNameError\u001b[0m                                 Traceback (most recent call last)",
      "Cell \u001b[0;32mIn[164], line 3\u001b[0m\n\u001b[1;32m      1\u001b[0m \u001b[38;5;66;03m# Calculate the mean and standard deviation of the feature and target variables\u001b[39;00m\n\u001b[1;32m      2\u001b[0m X_mean \u001b[38;5;241m=\u001b[39m X\u001b[38;5;241m.\u001b[39mmean()\n\u001b[0;32m----> 3\u001b[0m y_mean \u001b[38;5;241m=\u001b[39m y\u001b[38;5;241m.\u001b[39mmean()\n\u001b[1;32m      4\u001b[0m X_std \u001b[38;5;241m=\u001b[39m X\u001b[38;5;241m.\u001b[39mstd()\n\u001b[1;32m      5\u001b[0m y_std \u001b[38;5;241m=\u001b[39m y\u001b[38;5;241m.\u001b[39mstd()\n",
      "\u001b[0;31mNameError\u001b[0m: name 'y' is not defined"
     ]
    }
   ],
   "source": [
    "# Calculate the mean and standard deviation of the feature and target variables\n",
    "X_mean = X.mean()\n",
    "y_mean = y.mean()\n",
    "X_std = X.std()\n",
    "y_std = y.std()\n"
   ]
  },
  {
   "cell_type": "code",
   "execution_count": null,
   "id": "5f58d4b3-d9ce-4796-96a1-23b19512f352",
   "metadata": {},
   "outputs": [],
   "source": [
    "# Standardize the feature and target variables\n",
    "X = (X - X_mean) / X_std\n",
    "y = (y - y_mean) / y_std\n"
   ]
  },
  {
   "cell_type": "code",
   "execution_count": null,
   "id": "127e0644-9ee5-4455-9638-1ee034132ea0",
   "metadata": {},
   "outputs": [],
   "source": [
    "# Calculate the slope and intercept of the regression line\n",
    "slope = np.dot(X.T, y) / np.dot(X.T, X)\n",
    "intercept = y_mean - slope * X_mean\n"
   ]
  },
  {
   "cell_type": "code",
   "execution_count": null,
   "id": "398777ba-35dd-4cb5-b3cb-2e13484fdf66",
   "metadata": {},
   "outputs": [],
   "source": [
    "# Calculate the slope and intercept of the regression line\n",
    "slope = np.dot(X.T, y) / np.dot(X.T, X)\n",
    "intercept = y_mean - slope * X_mean\n"
   ]
  },
  {
   "cell_type": "code",
   "execution_count": null,
   "id": "6192445b-8f8d-4d65-9e26-cdb3bfa52a79",
   "metadata": {},
   "outputs": [],
   "source": [
    "# Make predictions on new data\n",
    "new_data = np.array([[100, 2000, 4, 100, 100, 14, 95,3000,0,1,0,0,0,0,0,0,1,0,0]])\n",
    "new_data = (new_data - X_mean) / X_std\n",
    "prediction = slope * new_data + intercept\n",
    "prediction = y_std * prediction + y_mean\n"
   ]
  },
  {
   "cell_type": "code",
   "execution_count": null,
   "id": "e3ba4dea-b471-4e00-b3ff-336a7edfe47e",
   "metadata": {},
   "outputs": [],
   "source": [
    "# Plot the least fit curve\n",
    "pl.scatter(X[:, 0], y)\n",
    "pl.plot(X[:, 0], slope * X[:, 0] + intercept, color='red')\n",
    "pl.title('Least Fit Curve')\n",
    "pl.xlabel('Horsepower')\n",
    "pl.ylabel('price')\n",
    "pl.show()"
   ]
  }
 ],
 "metadata": {
  "kernelspec": {
   "display_name": "Python 3 (ipykernel)",
   "language": "python",
   "name": "python3"
  },
  "language_info": {
   "codemirror_mode": {
    "name": "ipython",
    "version": 3
   },
   "file_extension": ".py",
   "mimetype": "text/x-python",
   "name": "python",
   "nbconvert_exporter": "python",
   "pygments_lexer": "ipython3",
   "version": "3.11.7"
  }
 },
 "nbformat": 4,
 "nbformat_minor": 5
}
