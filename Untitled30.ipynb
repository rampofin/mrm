{
 "cells": [
  {
   "cell_type": "code",
   "execution_count": null,
   "id": "ccea47eb-caf6-46e4-adbc-478036fb0238",
   "metadata": {},
   "outputs": [],
   "source": [
    "import pandas as pd\n",
    "import numpy as np\n",
    "import matplotlib.pyplot as pl\n",
    "import sklearn as sl\n",
    "import seaborn as sns"
   ]
  },
  {
   "cell_type": "code",
   "execution_count": null,
   "id": "9f137198-e6a4-4e21-b4b6-e5d6dbe3349f",
   "metadata": {},
   "outputs": [],
   "source": [
    "df = pd.read_csv('train_data.csv')\n",
    "df"
   ]
  },
  {
   "cell_type": "code",
   "execution_count": null,
   "id": "af2a2926-03b9-4019-a6bb-ff42443d42e2",
   "metadata": {},
   "outputs": [],
   "source": [
    "#locating null values\n",
    "df.loc[:].isna().sum()"
   ]
  },
  {
   "cell_type": "code",
   "execution_count": null,
   "id": "1b207157-4f48-4c5b-a1f4-bd1adde7c56e",
   "metadata": {},
   "outputs": [],
   "source": [
    "#total columns and rows\n",
    "print(\"columns = \",len(df.columns))\n",
    "print(\"rows = \",len(df.index))\n",
    "#pretty small data set so we gonna cap the data outliers"
   ]
  },
  {
   "cell_type": "code",
   "execution_count": null,
   "id": "4863bdad-2986-4dc1-bdcb-1530a0664944",
   "metadata": {},
   "outputs": [],
   "source": [
    "#sex and treatment type are not really correlated as p value = 0.8 which is > 0.05 significance level\n",
    "#Health_Index is highly correlated to treatment as p value <<< 0.05 significance level\n",
    "#Fat_Level might be somewhat correlated to treatment type as p value is around 0.05. \n",
    "        #To prevent underfit we will consider it. "
   ]
  },
  {
   "cell_type": "code",
   "execution_count": null,
   "id": "56e63a42-66a8-4435-b499-91bd4c8007f6",
   "metadata": {},
   "outputs": [],
   "source": [
    "from sklearn.feature_selection import chi2\n",
    "from sklearn.preprocessing import LabelEncoder\n",
    "\n",
    "# Encode categorical variables\n",
    "encoder = LabelEncoder()\n",
    "df['Sex'] = encoder.fit_transform(df['Sex'])\n",
    "df['Health_Index'] = encoder.fit_transform(df['Health_Index'])\n",
    "df['Fat_Level'] = encoder.fit_transform(df['Fat_Level'])\n",
    "\n",
    "X = df[['Sex', 'Health_Index', 'Fat_Level']]\n",
    "y = df['Treatment_Type']\n",
    "\n",
    "correlation = df[['Age','Mineral_Ratio','Fat_Level','Treatment_Type']].corr()\n",
    "sns.heatmap(correlation, annot=True, cmap='coolwarm')\n",
    "pl.show()\n",
    "\n",
    "\n",
    "chi_scores = chi2(X, y)\n",
    "print(chi_scores)\n",
    " "
   ]
  },
  {
   "cell_type": "code",
   "execution_count": null,
   "id": "2264e506-52b3-45f4-8e82-a01996cef75d",
   "metadata": {},
   "outputs": [],
   "source": [
    "#considering columns will be Mineral_Ratio, Health_Index and Fat_Level for prediction\n",
    "refinedData = df[['Mineral_Ratio','Health_Index','Treatment_Type']]\n",
    "IQR = refinedData.describe()\n",
    "IQR"
   ]
  },
  {
   "cell_type": "code",
   "execution_count": null,
   "id": "2687056b-c0c5-4eb4-a505-3f278887cf6f",
   "metadata": {},
   "outputs": [],
   "source": [
    "IQR_Range = IQR.loc['75%','Mineral_Ratio'] - IQR.loc['25%','Mineral_Ratio']\n",
    "lower_1 = IQR.loc['25%','Mineral_Ratio'] - (1.5*IQR_Range)\n",
    "upper_1 = IQR.loc['75%','Mineral_Ratio'] + (1.5*IQR_Range)\n",
    "refinedData = refinedData[(refinedData['Mineral_Ratio'] >= lower_1) & (refinedData['Mineral_Ratio'] <= upper_1)]\n",
    "refinedData"
   ]
  },
  {
   "cell_type": "code",
   "execution_count": null,
   "id": "76a9f7d3-d232-4b41-b313-63975de54f1d",
   "metadata": {},
   "outputs": [],
   "source": [
    "#normalization of numerical data\n",
    "from sklearn.preprocessing import MinMaxScaler\n",
    "\n",
    "scaler = MinMaxScaler()\n",
    "refinedData['Mineral_Ratio'] = scaler.fit_transform(refinedData[['Mineral_Ratio']])\n",
    "refinedData\n"
   ]
  },
  {
   "cell_type": "code",
   "execution_count": null,
   "id": "4ca8fea5-641f-4971-a999-092bcb305a97",
   "metadata": {},
   "outputs": [],
   "source": [
    "from sklearn.cluster import KMeans\n",
    "\n",
    "X = refinedData[['Mineral_Ratio','Health_Index']]\n",
    "inertia = []\n",
    "k_range = range(1, 11)\n",
    "for k in k_range:\n",
    "    kmeans = KMeans(n_clusters=k, random_state=42)\n",
    "    kmeans.fit(X)\n",
    "    inertia.append(kmeans.inertia_)  # Inertia: Sum of squared distances to closest cluster center\n",
    "\n",
    "# Plot the elbow curve\n",
    "pl.figure(figsize=(10, 6))\n",
    "pl.plot(k_range, inertia, marker='o')\n",
    "pl.title('Elbow Method for Optimal k')\n",
    "pl.xlabel('Number of Clusters (k)')\n",
    "pl.ylabel('Inertia')\n",
    "pl.xticks(k_range)\n",
    "pl.grid()\n",
    "pl.show()"
   ]
  },
  {
   "cell_type": "code",
   "execution_count": null,
   "id": "934333ac-0731-40ef-b130-39173d7b78d7",
   "metadata": {},
   "outputs": [],
   "source": [
    "# Fit K-Means with the chosen number of clusters\n",
    "k = 4  # Replace with the optimal k you found\n",
    "kmeans = KMeans(n_clusters=k, random_state=42)\n",
    "refinedData['Cluster'] = kmeans.fit_predict(X)  # Adds the cluster assignment to your DataFrame\n",
    "\n",
    "# Check the resulting DataFrame with cluster assignments\n",
    "print(refinedData.head())"
   ]
  },
  {
   "cell_type": "code",
   "execution_count": null,
   "id": "39e1a986-e75a-424d-ae85-f93ee2ccc57f",
   "metadata": {},
   "outputs": [],
   "source": [
    "# from sklearn.metrics import accuracy_score\n",
    "\n",
    "# y_pred_val = best_model.predict(X_val)\n",
    "# print(f\"Validation Accuracy: {accuracy_score(y_val, y_pred_val)}\")\n",
    "from mpl_toolkits.mplot3d import Axes3D\n",
    "fig = pl.figure(figsize=(10, 8))\n",
    "ax = fig.add_subplot(111, projection='3d')\n",
    "\n",
    "# Scatter plot\n",
    "ax.scatter(refinedData['Mineral_Ratio'], \n",
    "           refinedData['Health_Index'].astype('category').cat.codes,  # Convert categorical to numerical for plotting\n",
    "           # Convert categorical to numerical for plotting\n",
    "           c=refinedData['Cluster'], \n",
    "           cmap='viridis', \n",
    "           marker='o')\n",
    "\n",
    "# Set labels\n",
    "ax.set_xlabel('Mineral Ratio (Normalized)')\n",
    "ax.set_ylabel('Health Index (Encoded)')\n",
    "ax.set_zlabel('Fat Level (Encoded)')\n",
    "ax.set_title('K-Means Clustering in 3D Space')\n",
    "\n",
    "# Show color bar\n",
    "pl.colorbar(ax.collections[0], label='Cluster')\n",
    "pl.show()"
   ]
  },
  {
   "cell_type": "code",
   "execution_count": null,
   "id": "0ebf3cf8-6fdd-4e66-82d4-b75bab8f000c",
   "metadata": {},
   "outputs": [],
   "source": [
    "\n",
    "from sklearn.decomposition import PCA\n",
    "from sklearn.cluster import KMeans\n",
    "from sklearn.metrics import silhouette_score, fowlkes_mallows_score\n",
    "\n"
   ]
  },
  {
   "cell_type": "code",
   "execution_count": null,
   "id": "49d7f84f-ce24-4cd8-957a-b0fde3dd6a13",
   "metadata": {},
   "outputs": [],
   "source": [
    "\n",
    "# Apply PCA to reduce dimensions to 2 components for visualization\n",
    "pca = PCA(n_components=2)\n",
    "pca_transformed = pca.fit_transform(refinedData.drop(columns=['Treatment_Type']))  # Drop the label column\n",
    "\n",
    "# Visualize PCA-transformed data\n",
    "pl.scatter(pca_transformed[:, 0], pca_transformed[:, 1], s=50)\n",
    "pl.title('PCA - 2D Projection of Data')\n",
    "pl.show()\n"
   ]
  },
  {
   "cell_type": "code",
   "execution_count": null,
   "id": "2aa26b75-df92-4bff-9a49-b9d45e276595",
   "metadata": {},
   "outputs": [],
   "source": [
    "\n",
    "# Initialize K-Means with k-means++ to improve cluster initialization\n",
    "kmeans = KMeans(n_clusters=4, init='k-means++', random_state=42)\n",
    "kmeans.fit(pca_transformed)   \n",
    "\n",
    "# Predict clusters\n",
    "refinedData['Cluster'] = kmeans.labels_\n",
    "\n",
    "# Evaluate the clustering using Silhouette Score (closer to 1 is better)\n",
    "silhouette_avg = silhouette_score(pca_transformed, kmeans.labels_)\n",
    "print(f'Silhouette Score: {silhouette_avg}')\n",
    "\n"
   ]
  },
  {
   "cell_type": "code",
   "execution_count": null,
   "id": "04f8e752-ac9e-42b1-be09-92cb6d270251",
   "metadata": {},
   "outputs": [],
   "source": [
    "# now working on testing data\n",
    "df_test = pd.read_csv('test_data.csv')"
   ]
  },
  {
   "cell_type": "code",
   "execution_count": null,
   "id": "35d52daf-dca7-4855-8394-248bff17c0e7",
   "metadata": {},
   "outputs": [],
   "source": [
    "import pandas as pd\n",
    "import numpy as np\n",
    "from sklearn.preprocessing import LabelEncoder, MinMaxScaler"
   ]
  },
  {
   "cell_type": "code",
   "execution_count": null,
   "id": "8e42c80d-0664-46bf-aa4c-c55fd16f5aab",
   "metadata": {},
   "outputs": [],
   "source": [
    "# Manually map 'M' and 'F' in test data to match training encoding\n",
    "df_test['Sex'] = df_test['Sex'].map({'Male': 0, 'Female': 1})"
   ]
  },
  {
   "cell_type": "code",
   "execution_count": null,
   "id": "e304abff-f044-4919-a200-fbf55b8f507d",
   "metadata": {},
   "outputs": [],
   "source": [
    "# Check unique categories in training\n",
    "known_health_index = ['HIGH', 'MEDIUM', 'LOW']  # Replacing with actual categories seen in training\n",
    "df_test['Health_Index'] = df_test['Health_Index'].apply(lambda x: x if x in known_health_index else 'LOW')\n",
    "\n",
    "# Encode Health_Index and Fat_Level by using same encoder as i did in training\n",
    "encoder = LabelEncoder()\n",
    "encoder.fit(['HIGH', 'MEDIUM', 'LOW'])  # Assuming these were same labels in training data\n",
    "\n",
    "df_test['Health_Index'] = encoder.transform(df_test['Health_Index'])\n",
    "\n",
    "# Handle Fat_Level similarly\n",
    "known_fat_level = ['HIGH', 'LOW']  # Replacing with actual categories seen in training\n",
    "df_test['Fat_Level'] = df_test['Fat_Level'].apply(lambda x: x if x in known_fat_level else 'LOW')\n",
    "\n",
    "encoder.fit(['HIGH', 'LOW'])\n",
    "df_test['Fat_Level'] = encoder.transform(df_test['Fat_Level'])\n"
   ]
  },
  {
   "cell_type": "code",
   "execution_count": null,
   "id": "b4e081f0-4692-4a9a-ac3e-102fe9d6848b",
   "metadata": {},
   "outputs": [],
   "source": []
  }
 ],
 "metadata": {
  "kernelspec": {
   "display_name": "Python 3 (ipykernel)",
   "language": "python",
   "name": "python3"
  },
  "language_info": {
   "codemirror_mode": {
    "name": "ipython",
    "version": 3
   },
   "file_extension": ".py",
   "mimetype": "text/x-python",
   "name": "python",
   "nbconvert_exporter": "python",
   "pygments_lexer": "ipython3",
   "version": "3.11.7"
  }
 },
 "nbformat": 4,
 "nbformat_minor": 5
}
